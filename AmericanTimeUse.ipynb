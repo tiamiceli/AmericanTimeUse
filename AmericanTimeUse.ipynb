{
 "cells": [
  {
   "cell_type": "code",
   "execution_count": 2,
   "metadata": {
    "collapsed": false
   },
   "outputs": [],
   "source": [
    "import numpy as np\n",
    "import matplotlib.pyplot as plt\n",
    "import pandas as pd\n",
    "%matplotlib inline"
   ]
  },
  {
   "cell_type": "code",
   "execution_count": 3,
   "metadata": {
    "collapsed": false
   },
   "outputs": [],
   "source": [
    "respondentData = pd.read_csv(\"/Users/miceli/Documents/School/DataIncubator/AmericanTimeUse_2015/atusresp_2015.csv\")\n",
    "rosterData = pd.read_csv(\"/Users/miceli/Documents/School/DataIncubator/AmericanTimeUse_2015/atusrost_2015.csv\")\n",
    "whoData = pd.read_csv(\"/Users/miceli/Documents/School/DataIncubator/AmericanTimeUse_2015/atuswho_2015.csv\")\n",
    "activityData = pd.read_csv(\"/Users/miceli/Documents/School/DataIncubator/AmericanTimeUse_2015/atusact_2015.csv\")\n",
    "elderCareData = pd.read_csv(\"/Users/miceli/Documents/School/DataIncubator/AmericanTimeUse_2015/atusrostec_2015.csv\")\n",
    "cpsData = pd.read_csv(\"/Users/miceli/Documents/School/DataIncubator/AmericanTimeUse_2015/atuscps_2015.csv\")"
   ]
  },
  {
   "cell_type": "code",
   "execution_count": 4,
   "metadata": {
    "collapsed": false
   },
   "outputs": [],
   "source": [
    "activityDecoder = pd.read_csv(\"/Users/miceli/Documents/School/DataIncubator/AmericanTimeUse_2015/ActivityCodes.csv\",quotechar='\"')\n",
    "incomeDecoder = pd.read_csv(\"/Users/miceli/Documents/School/DataIncubator/AmericanTimeUse_2015/IncomeCodes.csv\",quotechar='\"')"
   ]
  },
  {
   "cell_type": "code",
   "execution_count": 5,
   "metadata": {
    "collapsed": true
   },
   "outputs": [],
   "source": [
    "#feed in times from activityData data frame\n",
    "#output minutes lapsed\n",
    "def duration(stopTime,startTim):\n",
    "    t2 = pd.Timedelta(stopTime)\n",
    "    t1 = pd.Timedelta(startTim)\n",
    "    dur = t2 - t1\n",
    "    if dur < pd.Timedelta('0 days'):\n",
    "        dur = dur + pd.Timedelta('1 days')\n",
    "    return dur/pd.Timedelta(minutes=1)\n",
    "\n",
    "def durationSeries(row):\n",
    "    t2 = pd.Timedelta(row['TUSTOPTIME'])\n",
    "    t1 = pd.Timedelta(row['TUSTARTTIM'])\n",
    "    dur = t2 - t1\n",
    "    if dur < pd.Timedelta('0 days'):\n",
    "        dur = dur + pd.Timedelta('1 days')\n",
    "    return dur/pd.Timedelta(minutes=1)\n",
    "    "
   ]
  },
  {
   "cell_type": "code",
   "execution_count": 6,
   "metadata": {
    "collapsed": true
   },
   "outputs": [],
   "source": [
    "durs = activityData.apply(durationSeries,axis=1)\n",
    "durs.name = \"duration\"\n",
    "activityData['duration']=durs"
   ]
  },
  {
   "cell_type": "code",
   "execution_count": 7,
   "metadata": {
    "collapsed": false
   },
   "outputs": [
    {
     "name": "stdout",
     "output_type": "stream",
     "text": [
      "['major code' 'major label' 'second code' 'second label']\n",
      "['TUCASEID' 'TUACTIVITY_N' 'TEWHERE' 'TRTCCTOT_LN' 'TRTCC_LN' 'TRTCOC_LN'\n",
      " 'TRTEC_LN' 'TRTHH_LN' 'TRTNOHH_LN' 'TRTOHH_LN' 'TRTONHH_LN' 'TRTO_LN'\n",
      " 'TUACTDUR' 'TUACTDUR24' 'TUCC5' 'TUCC5B' 'TUCC7' 'TUCC8' 'TUCUMDUR'\n",
      " 'TUCUMDUR24' 'TUDURSTOP' 'TUEC24' 'TUSTARTTIM' 'TUSTOPTIME' 'TUTIER1CODE'\n",
      " 'TUTIER2CODE' 'TUTIER3CODE' 'TRCODE' 'TRTIER2' 'TXWHERE' 'duration']\n"
     ]
    }
   ],
   "source": [
    "print activityDecoder.columns.values\n",
    "print activityData.columns.values"
   ]
  },
  {
   "cell_type": "code",
   "execution_count": 8,
   "metadata": {
    "collapsed": true
   },
   "outputs": [],
   "source": [
    "activityDataByRespondent = activityData.groupby('TUCASEID')"
   ]
  },
  {
   "cell_type": "code",
   "execution_count": 9,
   "metadata": {
    "collapsed": false
   },
   "outputs": [
    {
     "name": "stdout",
     "output_type": "stream",
     "text": [
      "385.0\n"
     ]
    }
   ],
   "source": [
    "for respondent,respAct in activityDataByRespondent:\n",
    "    if 20150101150018==respondent:\n",
    "        tier1act = respAct[respAct.TUTIER1CODE==1]\n",
    "        sumTime_tier1act = 0\n",
    "        dur = duration(tier1act.TUSTOPTIME[23],tier1act.TUSTARTTIM[23])\n",
    "        print dur\n",
    "    "
   ]
  },
  {
   "cell_type": "code",
   "execution_count": 10,
   "metadata": {
    "collapsed": false
   },
   "outputs": [
    {
     "name": "stdout",
     "output_type": "stream",
     "text": [
      "found respondant!\n",
      "T1Name: 1 T2Name: 1 T2Time: 565.0\n",
      "T1Name: 1 T2Name: 2 T2Time: 35.0\n",
      "                                      T1Time tot: 600.0\n",
      "T1Name: 2 T2Name: 1 T2Time: 120.0\n",
      "T1Name: 2 T2Name: 2 T2Time: 115.0\n",
      "T1Name: 2 T2Name: 5 T2Time: 20.0\n",
      "T1Name: 2 T2Name: 6 T2Time: 41.0\n",
      "T1Name: 2 T2Name: 9 T2Time: 20.0\n",
      "                                      T1Time tot: 316.0\n",
      "T1Name: 11 T2Name: 1 T2Time: 50.0\n",
      "                                      T1Time tot: 50.0\n",
      "T1Name: 12 T2Name: 1 T2Time: 20.0\n",
      "T1Name: 12 T2Name: 3 T2Time: 454.0\n",
      "                                      T1Time tot: 474.0\n",
      "                                                   Respondent Time Tot: 1440.0\n"
     ]
    }
   ],
   "source": [
    "for respondentName,respAct in activityDataByRespondent:\n",
    "    if 20150101150018==respondentName:\n",
    "        print \"found respondant!\"\n",
    "        timeSpent=[]\n",
    "        tier1Act = respAct.groupby('TUTIER1CODE')\n",
    "        timeResp = 0\n",
    "        for tier1Name,actGroup in tier1Act:\n",
    "            tier1Time = 0\n",
    "            tier2Act = actGroup.groupby('TUTIER2CODE')\n",
    "            for tier2Name,acts in tier2Act:\n",
    "                tier2Time=0\n",
    "                durs = np.vectorize(duration)(acts['TUSTOPTIME'],acts['TUSTARTTIM'])\n",
    "                tier2Time = np.sum(durs)\n",
    "                print \"T1Name: \"+ str(tier1Name) + \" T2Name: \" + str(tier2Name) + \" T2Time: \" + str(tier2Time)\n",
    "                tier1Time = tier1Time+tier2Time\n",
    "            print \"                                      T1Time tot: \" + str(tier1Time)\n",
    "            timeResp = timeResp + tier1Time\n",
    "        print \"                                                   Respondent Time Tot: \" + str(timeResp)\n",
    "            \n",
    "            \n",
    "    "
   ]
  },
  {
   "cell_type": "code",
   "execution_count": 11,
   "metadata": {
    "collapsed": false
   },
   "outputs": [
    {
     "name": "stdout",
     "output_type": "stream",
     "text": [
      "found respondant!\n",
      "    TUTIER1CODE  TUTIER2CODE  TUACTDUR  duration\n",
      "0             1            1       180       180\n",
      "1             2            2        10        10\n",
      "2             2            6        40        40\n",
      "3             2            6         1         1\n",
      "4             2            2        30        30\n",
      "5            11            1        30        30\n",
      "6             2            2        60        60\n",
      "7             2            1       120       120\n",
      "8            12            3        40        40\n",
      "9             2            9        20        20\n",
      "10            2            5        20        20\n",
      "11           12            3        35        35\n",
      "12            1            2        30        30\n",
      "13           12            3       240       240\n",
      "14           12            3        30        30\n",
      "15           11            1        10        10\n",
      "16           12            3        24        24\n",
      "17           12            1        20        20\n",
      "18            2            2        15        15\n",
      "19           11            1        10        10\n",
      "20           12            3        55        55\n",
      "21            1            2         5         5\n",
      "22           12            3        30        30\n",
      "23            1            1       385       385\n"
     ]
    }
   ],
   "source": [
    "for respondentName,respAct in activityDataByRespondent:\n",
    "    if 20150101150018==respondentName:\n",
    "        print \"found respondant!\"\n",
    "        print respAct[['TUTIER1CODE','TUTIER2CODE','TUACTDUR','duration']]\n",
    "        \n",
    "#Ahhhhh I created a feature that already exists! bahhhh"
   ]
  },
  {
   "cell_type": "code",
   "execution_count": null,
   "metadata": {
    "collapsed": true
   },
   "outputs": [],
   "source": []
  }
 ],
 "metadata": {
  "kernelspec": {
   "display_name": "Python 2",
   "language": "python",
   "name": "python2"
  },
  "language_info": {
   "codemirror_mode": {
    "name": "ipython",
    "version": 2
   },
   "file_extension": ".py",
   "mimetype": "text/x-python",
   "name": "python",
   "nbconvert_exporter": "python",
   "pygments_lexer": "ipython2",
   "version": "2.7.11"
  }
 },
 "nbformat": 4,
 "nbformat_minor": 0
}
