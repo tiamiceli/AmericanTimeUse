{
 "cells": [
  {
   "cell_type": "code",
   "execution_count": 21,
   "metadata": {
    "collapsed": false
   },
   "outputs": [],
   "source": [
    "import numpy as np\n",
    "import matplotlib.pyplot as plt\n",
    "import pandas as pd\n",
    "%matplotlib inline"
   ]
  },
  {
   "cell_type": "code",
   "execution_count": 1,
   "metadata": {
    "collapsed": true
   },
   "outputs": [],
   "source": [
    "MajorCategories = [\n",
    "    ['01','Personal Care'],\n",
    "    ['02','Household Activities'],\n",
    "    ['03','Caring For & Helping Household Members'],\n",
    "    ['04','Caring For & Helping Non-Household Members'],\n",
    "    ['05','Work & Work-Related Activities'],\n",
    "    ['06','Education'],\n",
    "    ['07','Consumer Purchases'],\n",
    "    ['08','Professional & Personal Care Services'],\n",
    "    ['09','Household Services'],\n",
    "    ['10','Government Services & Civic Obligations'],\n",
    "    ['11','Eating and Drinking'],\n",
    "    ['12','Socializing, Relaxing, and Leisure'],\n",
    "    ['13','Sports, Exercise, and Recreation'],\n",
    "    ['14','Religious and Spiritual Activities'],\n",
    "    ['15','Volunteer Activities'],\n",
    "    ['16','Telephone Calls'],\n",
    "    ['18','Traveling'],\n",
    "    ['50','Data Codes']\n",
    "]\n"
   ]
  },
  {
   "cell_type": "code",
   "execution_count": null,
   "metadata": {
    "collapsed": true
   },
   "outputs": [],
   "source": []
  }
 ],
 "metadata": {
  "kernelspec": {
   "display_name": "Python 2",
   "language": "python",
   "name": "python2"
  },
  "language_info": {
   "codemirror_mode": {
    "name": "ipython",
    "version": 2
   },
   "file_extension": ".py",
   "mimetype": "text/x-python",
   "name": "python",
   "nbconvert_exporter": "python",
   "pygments_lexer": "ipython2",
   "version": "2.7.11"
  }
 },
 "nbformat": 4,
 "nbformat_minor": 0
}
